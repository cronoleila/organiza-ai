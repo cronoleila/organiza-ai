{
  "nbformat": 4,
  "nbformat_minor": 0,
  "metadata": {
    "colab": {
      "provenance": [],
      "include_colab_link": true
    },
    "kernelspec": {
      "name": "python3",
      "display_name": "Python 3"
    },
    "language_info": {
      "name": "python"
    }
  },
  "cells": [
    {
      "cell_type": "markdown",
      "metadata": {
        "id": "view-in-github",
        "colab_type": "text"
      },
      "source": [
        "<a href=\"https://colab.research.google.com/github/cronoleila/organiza-ai/blob/main/Organiza_ai.ipynb\" target=\"_parent\"><img src=\"https://colab.research.google.com/assets/colab-badge.svg\" alt=\"Open In Colab\"/></a>"
      ]
    },
    {
      "cell_type": "code",
      "source": [
        "%pip -q install google-genai"
      ],
      "metadata": {
        "id": "UCCbECexLk_h"
      },
      "execution_count": 20,
      "outputs": []
    },
    {
      "cell_type": "code",
      "source": [
        "# Configura a API Key do Google Gemini\n",
        "\n",
        "import os\n",
        "from google.colab import userdata\n",
        "\n",
        "os.environ[\"GOOGLE_API_KEY\"] = userdata.get('GOOGLE_API_KEY')"
      ],
      "metadata": {
        "id": "NfCqHo1tLk8P"
      },
      "execution_count": 21,
      "outputs": []
    },
    {
      "cell_type": "code",
      "source": [
        "!pip install -q google-adk google-genai"
      ],
      "metadata": {
        "id": "v9eEXWhLZMzO"
      },
      "execution_count": 22,
      "outputs": []
    },
    {
      "cell_type": "code",
      "source": [
        "# Agente de Produtividade com Gemini ADK\n",
        "\n",
        "from google.adk.agents import Agent\n",
        "from google.adk.runners import Runner\n",
        "from google.adk.sessions import InMemorySessionService\n",
        "from google.genai import types\n",
        "from datetime import date\n",
        "from IPython.display import Markdown, display\n",
        "import textwrap"
      ],
      "metadata": {
        "id": "bV4w0H5TLk5g"
      },
      "execution_count": 23,
      "outputs": []
    },
    {
      "cell_type": "code",
      "source": [
        "# Função para envio de mensagem ao agente\n",
        "def call_agent(agent: Agent, message_text: str) -> str:\n",
        "    session_service = InMemorySessionService()\n",
        "    session = session_service.create_session(app_name=agent.name, user_id=\"user1\", session_id=\"session1\")\n",
        "    runner = Runner(agent=agent, app_name=agent.name, session_service=session_service)\n",
        "    content = types.Content(role=\"user\", parts=[types.Part(text=message_text)])\n",
        "\n",
        "    final_response = \"\"\n",
        "    for event in runner.run(user_id=\"user1\", session_id=\"session1\", new_message=content):\n",
        "        if event.is_final_response():\n",
        "            for part in event.content.parts:\n",
        "                if part.text is not None:\n",
        "                    final_response += part.text + \"\\n\"\n",
        "    return final_response"
      ],
      "metadata": {
        "id": "Y9cBAz02xZt9"
      },
      "execution_count": 24,
      "outputs": []
    },
    {
      "cell_type": "code",
      "source": [
        "# Função para exibir resposta em Markdown\n",
        "def to_markdown(text):\n",
        "    text = text.replace('•', '  *')\n",
        "    return Markdown(textwrap.indent(text, '> ', predicate=lambda _: True))"
      ],
      "metadata": {
        "id": "lc2JPA92xbnp"
      },
      "execution_count": 25,
      "outputs": []
    },
    {
      "cell_type": "code",
      "source": [
        "# Definição do Agente de Produtividade\n",
        "agente_produtividade = Agent(\n",
        "    name=\"agente_produtividade\",\n",
        "    model=\"gemini-1.5-flash\",\n",
        "    instruction=\"\"\"\n",
        "    Você é um coach virtual de produtividade e organização de tempo.\n",
        "    Quando o usuário fornecer uma lista de tarefas, organize uma agenda sugerida automaticamente.\n",
        "    Presuma que o dia útil vai das 8h às 18h, com uma pausa de 1h para almoço.\n",
        "    Estime durações médias para tarefas comuns (ex: supermercado = 1h, academia = 1h, banho dos cachorros = 45min).\n",
        "    Use uma linguagem motivadora, clara e organizada por horários.\n",
        "    Apresente a agenda sugerida diretamente e, se necessário, pergunte depois por ajustes ou preferências.\n",
        "    Aplique boas práticas como Técnica Pomodoro, 80/20, matriz de Eisenhower e revisão semanal sempre que fizer sentido.\n",
        "    \"\"\",\n",
        "    description=\"Agente organizador de agenda e produtividade pessoal\"\n",
        ")"
      ],
      "metadata": {
        "id": "6Cg0KNJGMgC5"
      },
      "execution_count": 28,
      "outputs": []
    },
    {
      "cell_type": "code",
      "source": [
        "# Exemplo de uso do agente\n",
        "entrada_do_usuario = input(\"Digite sua rotina ou tarefas para hoje: \")\n",
        "resposta = call_agent(agente_produtividade, entrada_do_usuario)\n",
        "display(to_markdown(resposta))"
      ],
      "metadata": {
        "colab": {
          "base_uri": "https://localhost:8080/",
          "height": 484
        },
        "id": "a1eRPalxEnj7",
        "outputId": "892f88eb-abbe-4754-b1ff-c5f6ef7f1602"
      },
      "execution_count": 29,
      "outputs": [
        {
          "name": "stdout",
          "output_type": "stream",
          "text": [
            "Digite sua rotina ou tarefas para hoje: Leirura liturgica, organizar roupas da cama, ir na academia, sair com amigos para almoço, revisar agenda física e definir prioridades\n"
          ]
        },
        {
          "output_type": "display_data",
          "data": {
            "text/plain": [
              "<IPython.core.display.Markdown object>"
            ],
            "text/markdown": "> Olá! Vamos organizar seu dia para que você maximize sua produtividade e ainda tenha tempo para tudo o que precisa!  Baseado na sua lista, preparei a seguinte agenda sugerida:\n> \n> \n> **Agenda Sugerida:**\n> \n> * **8h00 - 8h30:** Leitura Litúrgica (30 minutos - comece o dia com foco e serenidade).  Use a técnica Pomodoro: 25 minutos focado, 5 minutos de descanso.\n> \n> * **8h30 - 9h15:** Organizar roupas de cama (45 minutos -  tarefinha rápida e eficaz para começar a manhã).\n> \n> * **9h15 - 10h15:** Academia (1 hora -  priorize seu bem-estar físico!).\n> \n> * **10h15 - 11h15:** Revisão da agenda física e definição de prioridades (Matriz de Eisenhower - 1 hora - Identifique as tarefas urgentes e importantes para otimizar seu tempo).  Foque nas 20% mais importantes que geram 80% dos resultados.\n> \n> * **11h15 - 12h15:** Almoço com amigos (1 hora -  momentos sociais também são importantes para a produtividade e o bem-estar).\n> \n> * **12h15 - 13h15:**  *Almoço e Tempo livre*\n> \n> * **13h15 - 18h00:**  Tempo livre para imprevistos ou outras tarefas que surgirem durante o dia, lembrando de aplicar a técnica Pomodoro e a regra 80/20 sempre que possível.\n> \n> **Dicas Adicionais:**\n> \n> * **Revisão Semanal:**  Reserve um tempo no final da semana (ex: domingo à noite) para planejar a semana seguinte.  Isso ajuda a manter o foco e a organização.\n> \n> * **Flexibilidade:** Esta é apenas uma sugestão!  Ajuste os horários de acordo com suas preferências e necessidades.\n> \n> \n> Me diga:  Como você se sente com essa sugestão? Há algum ajuste que você gostaria de fazer?  Por exemplo, você prefere colocar a academia em outro horário, ou precisa de mais tempo para alguma atividade?  Vamos otimizar sua agenda juntos!\n> \n"
          },
          "metadata": {}
        }
      ]
    }
  ]
}